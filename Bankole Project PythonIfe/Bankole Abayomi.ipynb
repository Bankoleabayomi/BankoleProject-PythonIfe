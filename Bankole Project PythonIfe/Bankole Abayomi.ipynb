{
 "cells": [
  {
   "cell_type": "code",
   "execution_count": 1,
   "metadata": {},
   "outputs": [
    {
     "data": {
      "text/plain": [
       "[['sugar', 150, 70.0],\n",
       " ['bread(sliced)', 304, 200.0],\n",
       " ['bread', 230, 150.0],\n",
       " ['egg', 471, 50.0],\n",
       " ['Three-crown(tin)', 173, 150.0],\n",
       " ['Peak-Milk(tin)', 159, 120.0],\n",
       " ['Peak-Milk(sachet)', 758, 50.0],\n",
       " ['BournVita(sachet)', 611, 55.0],\n",
       " ['Milo(tin)', 353, 500.0],\n",
       " ['Peak-Milk(large-sachet)', 878, 700.0],\n",
       " ['Milo(large-sachet)', 934, 700.0],\n",
       " ['Bournvita(large-sachet)', 758, 100.0],\n",
       " ['Custard(small-sachet)', 383, 200.0],\n",
       " ['Cornflex(small-sachet)', 647, 150.0],\n",
       " ['Goldenmorn(small-sachet)', 110, 100.0],\n",
       " ['Detergent(small waw)', 198, 120.0],\n",
       " ['Detergent(small Aerial)', 354, 115.0],\n",
       " ['Detergent(big waw)', 323, 200.0],\n",
       " ['Detergent(big Aerial)', 222, 250.0],\n",
       " ['Cornflakes(big sachet)', 341, 750.0],\n",
       " ['Golden morn(large sachet)', 458, 650.0],\n",
       " ['Sprite(small)', 134, 80.0],\n",
       " ['Pepsi(small)', 674, 80.0],\n",
       " ['Fanta(small)', 742, 80.0],\n",
       " ['Lacasera(small)', 127, 80.0],\n",
       " ['Sprite(big)', 956, 150.0],\n",
       " ['Pepsi(small)', 369, 150.0],\n",
       " ['Fanta(small)', 263, 150.0],\n",
       " ['Lacasera(small)', 786, 150.0],\n",
       " ['Coke(big)', 546, 150.0],\n",
       " ['Sphagetti (Dangote)', 500, 185.0],\n",
       " ['pure bliss', 51, 80.0],\n",
       " ['wafer biscuits', 100, 50.0],\n",
       " ['coffee', 45, 150.0]]"
      ]
     },
     "execution_count": 1,
     "metadata": {},
     "output_type": "execute_result"
    }
   ],
   "source": [
    "banks = [ ]\n",
    "\n",
    "def import_data(filename):\n",
    "    with open(filename, 'r') as f:\n",
    "        s = f.read().splitlines()\n",
    "        for item in s:\n",
    "            temp = item.split(',')\n",
    "            x = [ ]\n",
    "            x.append(temp[0])\n",
    "            x.append(int(temp[1]))\n",
    "            x.append(float(temp[2]))\n",
    "            banks.append(x)\n",
    "            \n",
    "import_data('C:/Users/Dell/Documents/Jupiter/store.csv')\n",
    "banks"
   ]
  },
  {
   "cell_type": "code",
   "execution_count": null,
   "metadata": {},
   "outputs": [],
   "source": []
  },
  {
   "cell_type": "code",
   "execution_count": 2,
   "metadata": {},
   "outputs": [
    {
     "name": "stdout",
     "output_type": "stream",
     "text": [
      "S/N  Item Names                Quantity   Price   \n",
      "1    sugar                       150       70.0   \n",
      "2    bread(sliced)               304      200.0   \n",
      "3    bread                       230      150.0   \n",
      "4    egg                         471       50.0   \n",
      "5    Three-crown(tin)            173      150.0   \n",
      "6    Peak-Milk(tin)              159      120.0   \n",
      "7    Peak-Milk(sachet)           758       50.0   \n",
      "8    BournVita(sachet)           611       55.0   \n",
      "9    Milo(tin)                   353      500.0   \n",
      "10   Peak-Milk(large-sachet)     878      700.0   \n",
      "11   Milo(large-sachet)          934      700.0   \n",
      "12   Bournvita(large-sachet)     758      100.0   \n",
      "13   Custard(small-sachet)       383      200.0   \n",
      "14   Cornflex(small-sachet)      647      150.0   \n",
      "15   Goldenmorn(small-sachet)    110      100.0   \n",
      "16   Detergent(small waw)        198      120.0   \n",
      "17   Detergent(small Aerial)     354      115.0   \n",
      "18   Detergent(big waw)          323      200.0   \n",
      "19   Detergent(big Aerial)       222      250.0   \n",
      "20   Cornflakes(big sachet)      341      750.0   \n",
      "21   Golden morn(large sachet)   458      650.0   \n",
      "22   Sprite(small)               134       80.0   \n",
      "23   Pepsi(small)                674       80.0   \n",
      "24   Fanta(small)                742       80.0   \n",
      "25   Lacasera(small)             127       80.0   \n",
      "26   Sprite(big)                 956      150.0   \n",
      "27   Pepsi(small)                369      150.0   \n",
      "28   Fanta(small)                263      150.0   \n",
      "29   Lacasera(small)             786      150.0   \n",
      "30   Coke(big)                   546      150.0   \n",
      "31   Sphagetti (Dangote)         500      185.0   \n",
      "32   pure bliss                   51       80.0   \n",
      "33   wafer biscuits              100       50.0   \n",
      "34   coffee                       45      150.0   \n",
      "None\n"
     ]
    }
   ],
   "source": [
    "def admin_print():\n",
    "    table_head = '{:<5}{:<25}{:^10}{:^10}'.format('S/N', 'Item Names', 'Quantity', 'Price')\n",
    "    print(table_head)\n",
    "    f = '{:<5d}{:<25}{:^10d}{:^10,.1f}'\n",
    "    for i in range(len(banks)):\n",
    "        print(f.format(i+1,*banks[i]))\n",
    "Admin = admin_print()\n",
    "print(Admin)"
   ]
  },
  {
   "cell_type": "code",
   "execution_count": 3,
   "metadata": {},
   "outputs": [
    {
     "name": "stdout",
     "output_type": "stream",
     "text": [
      "Enter the S/N of the item: 3\n",
      "Enter the new price: 145.0\n",
      "bread price is now 145.0\n",
      "Do you need to change the price of another item? (y/n)n\n",
      "None\n"
     ]
    }
   ],
   "source": [
    "def admin_Changeprice():\n",
    "    ID = int(input('Enter the S/N of the item: ')) -1\n",
    "    if ID in range(len(banks)):\n",
    "        new_item = float(input('Enter the new price: '))\n",
    "        banks[ID][2] = new_item\n",
    "        print('%s price is now %.1f'%(banks[ID][0], new_item))\n",
    "    else:\n",
    "        print('no item with such S/N !')\n",
    "    if input('Do you need to change the price of another item? (y/n)')[0] == 'y':\n",
    "        admin_Changeprice()\n",
    "print(admin_Changeprice())"
   ]
  },
  {
   "cell_type": "code",
   "execution_count": 4,
   "metadata": {},
   "outputs": [
    {
     "data": {
      "text/plain": [
       "['bread', 230, 145.0]"
      ]
     },
     "execution_count": 4,
     "metadata": {},
     "output_type": "execute_result"
    }
   ],
   "source": [
    "banks[2]"
   ]
  },
  {
   "cell_type": "code",
   "execution_count": 5,
   "metadata": {},
   "outputs": [
    {
     "name": "stdout",
     "output_type": "stream",
     "text": [
      "Enter the S/N of the item: 3\n",
      "Enter the new price: 150.0\n",
      "bread price is now 150.0\n",
      "Do you need to change the price of another item? (y/n)n\n",
      "None\n"
     ]
    }
   ],
   "source": [
    "print(admin_Changeprice())"
   ]
  },
  {
   "cell_type": "code",
   "execution_count": 6,
   "metadata": {},
   "outputs": [
    {
     "name": "stdout",
     "output_type": "stream",
     "text": [
      "Enter the new item name: Pizza\n",
      "Enter the new item Quantity: 100\n",
      "Enter the new price: 1500.0\n",
      "item added successfully\n",
      "None\n"
     ]
    }
   ],
   "source": [
    "def admin_newitem():\n",
    "        new_itemname = (input('Enter the new item name: '))\n",
    "        new_quantity = int(input('Enter the new item Quantity: '))\n",
    "        new_price = float(input('Enter the new price: '))\n",
    "        new_item = [new_itemname, new_quantity, new_price]\n",
    "        banks.append(new_item)\n",
    "        print('item added successfully')\n",
    "print(admin_newitem())"
   ]
  },
  {
   "cell_type": "code",
   "execution_count": 7,
   "metadata": {},
   "outputs": [
    {
     "name": "stdout",
     "output_type": "stream",
     "text": [
      "[['sugar', 150, 70.0], ['bread(sliced)', 304, 200.0], ['bread', 230, 150.0], ['egg', 471, 50.0], ['Three-crown(tin)', 173, 150.0], ['Peak-Milk(tin)', 159, 120.0], ['Peak-Milk(sachet)', 758, 50.0], ['BournVita(sachet)', 611, 55.0], ['Milo(tin)', 353, 500.0], ['Peak-Milk(large-sachet)', 878, 700.0], ['Milo(large-sachet)', 934, 700.0], ['Bournvita(large-sachet)', 758, 100.0], ['Custard(small-sachet)', 383, 200.0], ['Cornflex(small-sachet)', 647, 150.0], ['Goldenmorn(small-sachet)', 110, 100.0], ['Detergent(small waw)', 198, 120.0], ['Detergent(small Aerial)', 354, 115.0], ['Detergent(big waw)', 323, 200.0], ['Detergent(big Aerial)', 222, 250.0], ['Cornflakes(big sachet)', 341, 750.0], ['Golden morn(large sachet)', 458, 650.0], ['Sprite(small)', 134, 80.0], ['Pepsi(small)', 674, 80.0], ['Fanta(small)', 742, 80.0], ['Lacasera(small)', 127, 80.0], ['Sprite(big)', 956, 150.0], ['Pepsi(small)', 369, 150.0], ['Fanta(small)', 263, 150.0], ['Lacasera(small)', 786, 150.0], ['Coke(big)', 546, 150.0], ['Sphagetti (Dangote)', 500, 185.0], ['pure bliss', 51, 80.0], ['wafer biscuits', 100, 50.0], ['coffee', 45, 150.0], ['Pizza', 100, 1500.0]]\n"
     ]
    }
   ],
   "source": [
    "print(banks)"
   ]
  },
  {
   "cell_type": "code",
   "execution_count": 8,
   "metadata": {},
   "outputs": [
    {
     "name": "stdout",
     "output_type": "stream",
     "text": [
      "Enter the S/N of the item: 7\n",
      "Enter the quantity of item here: 10\n",
      "Enter the S/N of the item: 6\n",
      "Enter the quantity of item here: 2\n",
      "Enter the S/N of the item: 20\n",
      "Enter the quantity of item here: 8\n",
      "Enter the S/N of the item: 357\n",
      "item is not available: \n",
      "add next item? (y/n)n\n",
      "These are the items you bought:\n",
      "s/n\titem\tQuant\tamount\n",
      "These are the items you bought:\n",
      "s/n\titem\tQuant\tamount\n",
      "These are the items you bought:\n",
      "s/n\titem\tQuant\tamount\n",
      "6\tPeak-Milk(sachet)\t10\t500.0\n",
      "total amount:  6740.0\n",
      "5\tPeak-Milk(tin)\t2\t240.0\n",
      "total amount:  6740.0\n",
      "19\tCornflakes(big sachet)\t8\t6000.0\n",
      "total amount:  6740.0\n",
      "None\n"
     ]
    }
   ],
   "source": [
    "def my_Cart():\n",
    "    cart1 = {}\n",
    "    ans = 'y'\n",
    "    while ans == 'y':\n",
    "        sn = int(input('Enter the S/N of the item: ')) -1\n",
    "        if sn in range(len(banks)):\n",
    "            q = int(input('Enter the quantity of item here: '))\n",
    "            cart1[sn] = q\n",
    "        else:\n",
    "            print('item is not available: ')\n",
    "            ans = input('add next item? (y/n)')\n",
    "        \n",
    "    amounts = []\n",
    "    for n, q in cart1.items():\n",
    "        amounts.append(banks[n][2]*q)\n",
    "        banks[n][1]-=q\n",
    "        print('These are the items you bought:')\n",
    "        print('s/n\\titem\\tQuant\\tamount')\n",
    "    for id,a in zip(cart1,amounts):\n",
    "        print(id, banks[id][0],cart1[id], a, sep='\\t')\n",
    "        print('total amount: ', sum(amounts))  \n",
    "print(my_Cart())"
   ]
  },
  {
   "cell_type": "code",
   "execution_count": 9,
   "metadata": {},
   "outputs": [
    {
     "name": "stdout",
     "output_type": "stream",
     "text": [
      "Enter the S/N of the item: 4\n",
      "Enter the quantity of item here: 28\n",
      "Enter the S/N of the item: 9\n",
      "Enter the quantity of item here: 6\n",
      "Enter the S/N of the item: 293\n",
      "item is not available: \n",
      "add next item? (y/n)n\n",
      "These are the items you bought:\n",
      "s/n\titem\tQuant\tamount\n",
      "These are the items you bought:\n",
      "s/n\titem\tQuant\tamount\n",
      "3\tegg\t28\t1400.0\n",
      "total amount:  4400.0\n",
      "8\tMilo(tin)\t6\t3000.0\n",
      "total amount:  4400.0\n",
      "None\n"
     ]
    }
   ],
   "source": [
    "print(my_Cart())"
   ]
  },
  {
   "cell_type": "code",
   "execution_count": 10,
   "metadata": {},
   "outputs": [
    {
     "name": "stdout",
     "output_type": "stream",
     "text": [
      "Enter the S/N of the item: 20\n",
      "Enter the quantity of item here: 2\n",
      "Enter the S/N of the item: 13\n",
      "Enter the quantity of item here: 10\n",
      "Enter the S/N of the item: 4\n",
      "Enter the quantity of item here: 7\n",
      "Enter the S/N of the item: 9\n",
      "Enter the quantity of item here: 2\n",
      "Enter the S/N of the item: 284\n",
      "item is not available: \n",
      "add next item? (y/n)n\n",
      "These are the items you bought:\n",
      "s/n\titem\tQuant\tamount\n",
      "19\tCornflakes(big sachet)\t2\t1500.0\n",
      "12\tCustard(small-sachet)\t10\t2000.0\n",
      "3\tegg\t7\t350.0\n",
      "8\tMilo(tin)\t2\t1000.0\n",
      "total amount:  4850.0\n",
      "V.A.T: 1455.0\n",
      "None\n"
     ]
    }
   ],
   "source": [
    "def my_Cart():\n",
    "    cart1 = {}\n",
    "    ans = 'y'\n",
    "    while ans == 'y':\n",
    "        sn = int(input('Enter the S/N of the item: ')) -1\n",
    "        if sn in range(len(banks)):\n",
    "            q = int(input('Enter the quantity of item here: '))\n",
    "            cart1[sn] = q\n",
    "        else:\n",
    "            print('item is not available: ')\n",
    "            ans = input('add next item? (y/n)')\n",
    "        \n",
    "    amounts = []\n",
    "    for n, q in cart1.items():\n",
    "        amounts.append(banks[n][2]*q)\n",
    "        banks[n][1]-=q\n",
    "    print('These are the items you bought:')\n",
    "    print('s/n\\titem\\tQuant\\tamount')\n",
    "    for id,a in zip(cart1,amounts):\n",
    "        print(id, banks[id][0],cart1[id], a, sep='\\t')\n",
    "    print('total amount: ', sum(amounts))\n",
    "    totalQuantity = sum(cart1.values())\n",
    "    vat = 0.0\n",
    "    if totalQuantity < 5:\n",
    "        vat = sum(amounts)*0.2\n",
    "    elif totalQuantity > 10:\n",
    "        vat = sum(amounts)*0.3\n",
    "    print('V.A.T:',vat)\n",
    "print(my_Cart())"
   ]
  },
  {
   "cell_type": "code",
   "execution_count": 13,
   "metadata": {},
   "outputs": [
    {
     "name": "stdout",
     "output_type": "stream",
     "text": [
      "Enter the S/N of the item: 1\n",
      "Enter the quantity of item here: 1\n",
      "Enter the S/N of the item: 134\n",
      "item is not available: \n",
      "add next item? (y/n)n\n",
      "These are the items you bought:\n",
      "s/n\titem\tQuant\tamount\n",
      "0\tsugar\t1\t70.0\n",
      "total amount:  70.0\n",
      "V.A.T: 14.0\n",
      "None\n"
     ]
    }
   ],
   "source": [
    "def my_Cart():\n",
    "    cart1 = {}\n",
    "    ans = 'y'\n",
    "    while ans == 'y':\n",
    "        sn = int(input('Enter the S/N of the item: ')) -1\n",
    "        if sn in range(len(banks)):\n",
    "            q = int(input('Enter the quantity of item here: '))\n",
    "            cart1[sn] = q\n",
    "        else:\n",
    "            print('item is not available: ')\n",
    "            ans = input('add next item? (y/n)')\n",
    "        \n",
    "    amounts = []\n",
    "    for n, q in cart1.items():\n",
    "        amounts.append(banks[n][2]*q)\n",
    "        banks[n][1]-=q\n",
    "    print('These are the items you bought:')\n",
    "    print('s/n\\titem\\tQuant\\tamount')\n",
    "    for id,a in zip(cart1,amounts):\n",
    "        print(id, banks[id][0],cart1[id], a, sep='\\t')\n",
    "    print('total amount: ', sum(amounts))\n",
    "    totalQuantity = sum(cart1.values())\n",
    "    vat = 0.0\n",
    "    bonus = 0\n",
    "    if totalQuantity < 5:\n",
    "        vat = sum(amounts)*0.2\n",
    "    elif totalQuantity > 10:\n",
    "        if min(amounts) >= 100:\n",
    "            bonus = 800\n",
    "        print('Bonus:', bonus)\n",
    "        vat = sum(amounts)*0.3\n",
    "    print('V.A.T:',vat)\n",
    "print(my_Cart())"
   ]
  },
  {
   "cell_type": "code",
   "execution_count": 14,
   "metadata": {},
   "outputs": [],
   "source": [
    "import unittest"
   ]
  }
 ],
 "metadata": {
  "kernelspec": {
   "display_name": "Python 3",
   "language": "python",
   "name": "python3"
  },
  "language_info": {
   "codemirror_mode": {
    "name": "ipython",
    "version": 3
   },
   "file_extension": ".py",
   "mimetype": "text/x-python",
   "name": "python",
   "nbconvert_exporter": "python",
   "pygments_lexer": "ipython3",
   "version": "3.7.1"
  }
 },
 "nbformat": 4,
 "nbformat_minor": 2
}
